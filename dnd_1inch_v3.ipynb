{
 "cells": [
  {
   "cell_type": "markdown",
   "metadata": {},
   "source": [
    "___\n",
    "# Covalent Alchemist tasks - 1inch V3 Aggregator\n",
    "### Question: Find the largest \\$USD swap via 1inch V3\n",
    "___\n",
    "\n",
    "Not sure, let's find out.\n",
    "\n",
    "With my hacky python knoweldge, unclear understanding of the ethereum blockchain and a will to stubbornness, i've barely muddled together half a solution for only the first question... As a beginner, I really appreciate the proivided low-hanging–fruit questions so thanks, though I was unable to complete it.\n",
    "\n",
    "#### Info grabbed from Etherscan\n",
    "\n",
    "- [Contract Creation](https://etherscan.io/tx/0x9825b9f083ba43112afd66dbcfbbf770e24bc21ff4128ce24ddbda171d79ae2f) occurs at block 11511393\n",
    "- [Some block (2021-05-31)](https://etherscan.io/block/12538697) 12538697 (approximation for `latest` for the sake of arithmetic below)\n",
    "\n",
    "#### Covalent API Limitations\n",
    "``` json\n",
    "{\n",
    "    'data': None,\n",
    "     'error': True,\n",
    "     'error_message': 'Block ranges greater than 1 million'\n",
    "                         'not currently supported (got 11511394)',\n",
    "     'error_code': 501\n",
    " }\n",
    " ```\n",
    " \n",
    "$\\text{current-ish} - \\text{contract creation} = 1,027,304$ blocks 🙄\n",
    "\n",
    "1. Sort out params\n",
    "2. Grab relevant block heights\n",
    "3. Grab event log of contract\n",
    "4. Pick out transaction hashes\n",
    "5. Pick out swaps\n",
    "6. Grab largest"
   ]
  },
  {
   "cell_type": "code",
   "execution_count": null,
   "metadata": {},
   "outputs": [],
   "source": [
    "# --- 1. Sort out Parameters \n",
    "\n",
    "import requests\n",
    "import numpy as np\n",
    "import seaborn as sns\n",
    "import datetime as dt\n",
    "\n",
    "eth_chain = 1\n",
    "bsc_chain = 56\n",
    "inch_addr = \"0x111111111117dc0aa78b770fa6a738034120c302\"\n",
    "start_block = 11511393 # 1inch V3 contract creation block\n",
    "today_str = dt.datetime.today().strftime(\"%Y-%m-%d\")\n",
    "\n",
    "# --- Grab auth c_key from file\n",
    "\n",
    "with open('auth.txt') as f:\n",
    "    auth = (f.readlines()[0].strip(), \"\")\n",
    "\n",
    "# --- base url\n",
    "\n",
    "base_url = \"https://api.covalenthq.com/v1\"\n",
    "contract_url = \"/{chain}/events/address/{addr}/\"\n",
    "contract_params = \"\\\n",
    "?starting-block={start_block}\\\n",
    "&ending-block={end_block}\\\n",
    "&page-number={pg_no}\\\n",
    "&quote-currency=usd\\\n",
    "\"\n",
    "height_url =\"/{chain}/block_v2/{start_date}/{end_date}/\"\n",
    "tx_url = \"/{chain}/transaction_v2/{tx_hash}/\""
   ]
  },
  {
   "cell_type": "code",
   "execution_count": null,
   "metadata": {},
   "outputs": [],
   "source": [
    "# --- Latest (enough) block heights function\n",
    "\n",
    "def get_latest_height(url, chain):\n",
    "    r_height = requests.get(\n",
    "                            url.format(chain=chain, start_date=today_str, end_date=\"latest\"),\n",
    "                            auth=auth\n",
    "                           ).json()\n",
    "    heights = [s[\"height\"] for s in r_height[\"data\"][\"items\"]]\n",
    "    return max(heights)\n",
    "\n",
    "# --- get contract event log function \n",
    "def get_events(url, chain, addr, auth, start_block, end_block,  events=None):\n",
    "    events = [] if events is None else events\n",
    "    \n",
    "    # Break up range if greater than 1m\n",
    "    n_blocks = int(end_block) - int(start_block)\n",
    "    if n_blocks > 1e6:\n",
    "        n_intervals = n_blocks // 1e6\n",
    "        intervals = [[start_block, start_block + 1e6],\n",
    "                     [start_block + 1e6, end_block]]\n",
    "    else:\n",
    "        intervals = [[start_block, end_block]]\n",
    "        \n",
    "    healthy = True\n",
    "    page = 3\n",
    "    \n",
    "    for i in intervals:\n",
    "        i_start, i_end = int(i[0]), int(i[1])\n",
    "        while healthy:\n",
    "            print(\"Page \", page)\n",
    "            get_contract_url = url.format(\n",
    "                                    chain=chain, addr=addr,\n",
    "                                    start_block=i_start, end_block=i_end,\n",
    "                                    pg_no=page\n",
    "            )\n",
    "            event_json = requests.get(get_contract_url, auth=auth).json()\n",
    "            if event_json[\"error\"]:\n",
    "                print(event_json[\"error_code\"])\n",
    "                page += 1\n",
    "            else:\n",
    "                new_events = event_json[\"data\"][\"items\"]\n",
    "                print(\"n. new events: \", len(new_events))\n",
    "                events.extend(new_events)\n",
    "                print(\"Length of events: \", len(events))\n",
    "                page += 1\n",
    "                \n",
    "            if page == 5: # keeping it short for now. Remove to go through all the pages\n",
    "                return events\n",
    "            \n",
    "def get_tx(tx_hash, chain):\n",
    "    url = base_url + tx_url\n",
    "    url = url.format(chain=chain, tx_hash=tx_hash)\n",
    "    tx_json = requests.get(url, auth=auth).json()\n",
    "    content = tx_json[\"data\"][\"items\"]\n",
    "    kind = content[\"\"]\n",
    "    return tx_json"
   ]
  },
  {
   "cell_type": "code",
   "execution_count": null,
   "metadata": {},
   "outputs": [],
   "source": [
    "# --- Grab 1inch Event log\n",
    "\n",
    "get_height_url = base_url + height_url\n",
    "end_block = get_latest_height(get_height_url, eth_chain)\n",
    "\n",
    "events_url = base_url + contract_url + contract_params\n",
    "inch_events = get_events(url=events_url, chain=eth_chain,\n",
    "                    addr=inch_addr, auth=auth,\n",
    "                    start_block=start_block, end_block=end_block)"
   ]
  },
  {
   "cell_type": "code",
   "execution_count": null,
   "metadata": {
    "scrolled": false
   },
   "outputs": [],
   "source": [
    "# --- Check out example transaction here:\n",
    "\n",
    "inch_events[165]"
   ]
  },
  {
   "cell_type": "code",
   "execution_count": null,
   "metadata": {},
   "outputs": [],
   "source": [
    "# --- Inspect one tx as an example\n",
    "\n",
    "tx = \"0xecea96f102acc3c4ae87d54c9eb906109e5c86b961eb5a590fc24718c80ceba0\"\n",
    "tx = get_tx(tx, chain=eth_chain)"
   ]
  },
  {
   "cell_type": "markdown",
   "metadata": {},
   "source": [
    "Now I need to discern whether the event was a swap or a claim token transfer, similar. I can't figure out how to do this from the info above, but putting the `tx_hash` through covalent's \"get transaction\" API spells out what's going on in plain english. The thought of shoving all these transactions thorugh re pains me. There must be a faster way.. but for the sake of a solution that technically works, I would press forward, but i'm out of time. I wish I could have given this task more time"
   ]
  }
 ],
 "metadata": {
  "kernelspec": {
   "display_name": "Python 3",
   "language": "python",
   "name": "python3"
  },
  "language_info": {
   "codemirror_mode": {
    "name": "ipython",
    "version": 3
   },
   "file_extension": ".py",
   "mimetype": "text/x-python",
   "name": "python",
   "nbconvert_exporter": "python",
   "pygments_lexer": "ipython3",
   "version": "3.8.5"
  }
 },
 "nbformat": 4,
 "nbformat_minor": 4
}
